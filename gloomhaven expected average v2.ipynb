{
 "cells": [
  {
   "cell_type": "code",
   "execution_count": 200,
   "id": "professional-forty",
   "metadata": {},
   "outputs": [],
   "source": [
    "# import numpy\n",
    "\n",
    "#todo: how many attacks before shuffle will trigger\n",
    "#will not do: AOEs can trrigger the shuffle but won' thappen until the end of the round. i don't care.\n",
    "#add effects like wound and poison and all that. no change in expected dmg but it's worth reporting\n",
    "#calculate avg damage based on different base damages?\n",
    "#add blesses? how... +1 bless card added to deck per x attacks maybe?\n",
    "\n",
    "from collections import defaultdict\n",
    "from datetime import datetime\n",
    "import random\n",
    "from pprint import pprint"
   ]
  },
  {
   "cell_type": "code",
   "execution_count": 3,
   "id": "racial-leeds",
   "metadata": {},
   "outputs": [],
   "source": [
    "defaultdeck = ['null',-2,-1,-1,-1,-1,-1,0,0,0,0,0,0,1,1,1,1,1,2,'crit']"
   ]
  },
  {
   "cell_type": "code",
   "execution_count": 274,
   "id": "limited-perception",
   "metadata": {},
   "outputs": [],
   "source": [
    "perklist = {'Brute':\n",
    "            [['remove',[-1,-1]], #remove 2 -1s\n",
    "              ['replace',[-1,-1],[1,1]], #replace -1 with +1\n",
    "              ['add',[1,1]], #add 2+1\n",
    "              ['add',[1,1]], #add 2+1s\n",
    "              ['add',[3]], #add one #3\n",
    "              ['add',['0-Push 1-R','0-Push 1-R','0-Push 1-R']], #add 3 rolling push1\n",
    "              ['add',['0-Push 1-R','0-Push 1-R','0-Push 1-R']], #add 3 rolling push1\n",
    "              ['add',['0-Pierce 2-R','0-Pierce 2-R']], #add 2 pierce3\n",
    "              ['add',['0-Stun-R']], #add rolling stun\n",
    "              ['add',['0-Stun-R']], #add rolling stun\n",
    "              ['add',['0-Disarm-R','0-Muddle-R']], #add rolling disarm and rolling muddle\n",
    "              ['add',['0-Add Target-R']], #add rolling add target\n",
    "              ['add',['0-Add Target-R']], #add rolling add target\n",
    "              ['add',['0-Shield 1']], # add 1 +1 shield self\n",
    "              ['add',[1]] #ignore neg item effects and add +1 card\n",
    "             ],\n",
    "           'Spellweaver':\n",
    "            [['remove',[0,0,0,0]], #remove 4 0s\n",
    "             ['replace',[-1],[1]], #replace -1 with +1\n",
    "             ['replace',[-1],[1]], #replace -1 with +1\n",
    "             ['add',[1,1]], #add 2 +1s\n",
    "             ['add',[1,1]], #add 2 +1s\n",
    "             ['add',['0-Stun']], #add +0 stun\n",
    "             ['add',['1-Wound']], #add +1 wound\n",
    "             ['add',['1-Immobilize']], #add +1 immob\n",
    "             ['add',['1-Curse']], #add +1 curse\n",
    "             ['add',['2-Fire']], #add +2 fire\n",
    "             ['add',['2-Fire']], #add +2 fire\n",
    "             ['add',['2-Ice']], #add +2 frost\n",
    "             ['add',['2-Ice']], #add +2 frost\n",
    "             ['add',['0-Earth-R','0-Air-R']], #add rolling earth, rolling air\n",
    "             ['add',['0-Light-R','0-Dark-R']] #add rolling light, rolling dark\n",
    "            ],\n",
    "           'Soothsinger':\n",
    "            [['remove',[-1,-1]], #remove 2 -1\n",
    "             ['remove',[-1,-1]], #remove 2 -1\n",
    "             ['remove',[-2]], #remove 1 -2\n",
    "             ['replace',[1,1],[4]], #replace 2 +1 with 1 +4\n",
    "             ['replace',[1,1],[4]], #replace 2 +1 with 1 +4\n",
    "             ['replace',[0],['1-Immobilize']],#replace 0 with 1 immob\n",
    "             ['replace',[0],['1-Disarm']], #replace 0 with 1 disarm\n",
    "             ['replace',[0],['2-Wound']], #replace 0 with 2 wound\n",
    "             ['replace',[0],['2-Poison']], #replace 0 with 2 poison\n",
    "             ['replace',[0],['2-Curse']], #replace 0 with 2 curse\n",
    "             ['replace',[0],['3-Muddle']], #replace 0 with 3 muddle\n",
    "             ['replace',[-1],['0-Stun']], #replace -1 with 0 stun\n",
    "             ['add',['1--R','1--R','1--R']], #add 3 rolling +1\n",
    "             ['add',['0-Curse-R','0-Curse-R']], #add 2 rolling cvurse\n",
    "             ['add',['0-Curse-R','0-Curse-R']] #add 2 rolling curse\n",
    "            ],\n",
    "           'Elementalist':\n",
    "            [['remove',[-1,-1]], #remove 2 -1\n",
    "             ['remove',[-1,-1]], #remove 2 -1\n",
    "             ['replace',[-1],[1]], #replace -1, +1\n",
    "             ['replace',[0],[2]], #replace 0 with 2\n",
    "             ['replace',[0],[2]], #replace 0 with +2\n",
    "             ['add',['0-Fire','0-Fire','0-Fire']], #add 3 +0 fire\n",
    "             ['add',['0-Ice','0-Ice','0-Ice']], #add 3 +0 frost\n",
    "             ['add',['0-Air','0-Air','0-Air']], #add 3 +0 air\n",
    "             ['add',['0-Earth','0-Earth','0-Earth']], #add 3 +0 earth\n",
    "             ['replace',[0,0],['0-Fire','0-Earth']], #replace 2 +0 with +0 fire, +0 earth\n",
    "             ['replace',[0,0],['0-Ice','0-Air']], #replace 2 +0 with +0 frost, +0 air\n",
    "             ['add',['1-Push 1','1-Push 1']], #add two +1 push\n",
    "             ['add',['1-Wound']], #add one +1 wound\n",
    "             ['add',['0-Stun']], #add 1 +0 stun\n",
    "             ['add',['0-Add Target']] #add 1 +0 additional target\n",
    "            ],\n",
    "            'Doomstalker':\n",
    "            [['remove',[-1,-1]], #remove 2 -1\n",
    "             ['remove',[-1,-1]], #remove 2 -1\n",
    "             ['replace',[0,0],[1,1]], #replace 2 0 with 2 +1\n",
    "             ['replace',[0,0],[1,1]], #replace 2 0 with 2 +1\n",
    "             ['replace',[0,0],[1,1]],#replace 2 0 with 2 +1\n",
    "             ['add',['1--R','1--R']], #add 2 rolling +1\n",
    "             ['add',['1--R','1--R']],#add 2 rolling +1\n",
    "             ['add',['2-Muddle']], #add +2 muddle\n",
    "             ['add',['1-Poison']], #add +1 poison\n",
    "             ['add',['1-Wound']], #add +1 wound\n",
    "             ['add',['1-Immobilize']], #add +1 immob\n",
    "             ['add',['0-Stun']], #add +0 stun\n",
    "             ['add',['0-Add Target-R']],  #add 1 rolling add target\n",
    "             ['add',['0-Add Target-R']],  #add 1 rolling add target\n",
    "             ['add',[]] #ignore neg scena\n",
    "            ],\n",
    "            'Sawbones':\n",
    "            [['remove',[-1,-1]], #remove2 -1\n",
    "             ['remove',[-1,-1]], #remove2 -1\n",
    "             ['remove',[0,0,0,0]], #remove 4 0\n",
    "             ['replace',[0],[2]], #replace 0 with +2\n",
    "             ['replace',[0],[2]], #replace 0 with +2\n",
    "             ['add',['2--R']],#add 1 +2R\n",
    "             ['add',['2--R']],#add 1 +2R\n",
    "             ['add',['1-Immobilize']],#add 1 +1 immo\n",
    "             ['add',['1-Immobilize']],#add 1 +1 immo\n",
    "             ['add',['0-Wound-R','0-Wound-R']], #add 2 rolling wound\n",
    "             ['add',['0-Wound-R','0-Wound-R']], #add 2 rolling wound\n",
    "             ['add',['0-Stun-R']], #add one rolling stun\n",
    "             ['add',['0-Heal 3-R']],#add rolling heal 3\n",
    "             ['add',['0-Heal 3-R']],#add rolling heal 3\n",
    "             ['add',['0-Refresh Item']], #add one +0 refresh an item\n",
    "            ],\n",
    "            'BeastTyrant':\n",
    "            [['remove',[-1,-1]], #remove2 -1\n",
    "             ['replace',[-1],[1]], #replace -1 +1\n",
    "             ['replace',[-1],[1]], #replace -1 +1\n",
    "             ['replace',[-1],[1]], #replace -1 +1\n",
    "             ['replace',[0],[2]], #replace 0 with +2\n",
    "             ['replace',[0],[2]], #replace 0 with +2\n",
    "             ['add',['1-Wound']],#add 1 +1 wound\n",
    "             ['add',['1-Wound']],#add 1 +1 wound\n",
    "             ['add',['1-Immobilize']],#add 1 +1 immo\n",
    "             ['add',['1-Immobilize']],#add 1 +1 immo\n",
    "             ['add',['0-Heal 1-R','0-Heal 1-R']], #add 2 rolling heal+1s\n",
    "             ['add',['0-Heal 1-R','0-Heal 1-R']], #add 2 rolling heal+1s\n",
    "             ['add',['0-Heal 1-R','0-Heal 1-R']], #add 2 rolling heal+1s\n",
    "             ['add',['0-Earth-R','0-Earth-R']], #add 2 rolling earth\n",
    "             ['add',[]], #ignore neg scenario effects\n",
    "            ],\n",
    "            'Berserker':\n",
    "            [['remove',[-1,-1]], #remove2 -1\n",
    "             ['remove',[0,0,0,0]], #remove 4 0s\n",
    "             ['replace',[-1],[1]], #replace -1 +1\n",
    "             ['replace',[-1],[1]], #replace -1 +1\n",
    "             ['replace',[0],['2--R']], #replace 0 with +2Rolling\n",
    "             ['replace',[0],['2--R']], #replace 0 with +2rolling\n",
    "             ['add',['0-Wound-R','0-Wound-R']],#add 2 rolling wound\n",
    "             ['add',['0-Wound-R','0-Wound-R']],#add 2 rolling wound\n",
    "             ['add',['0-Stun-R']],#add 1 rolling stun\n",
    "             ['add',['0-Stun-R']],#add 1 rolling stun\n",
    "             ['add',['1-Disarm-R']], #add 1 rolling +1 disarm\n",
    "             ['add',['0-Heal 1-R','0-Heal 1-R']], #add 2 rolling heal +1\n",
    "             ['add',['2-Fire','2-Fire']], #add 2 +2 fires\n",
    "             ['add',['2-Fire','2-Fire']], #add 2 +2 fires\n",
    "             ['add',[]], #ignore neg scenario effects\n",
    "            ],\n",
    "            'Plagueherald':\n",
    "            [['replace',[-2],[0]], #replace -2 with +0\n",
    "             ['replace',[-1],[1]], #replace -1, +1\n",
    "             ['replace',[-1],[1]], #replace -1, +1\n",
    "             ['replace',[0],[2]], #replace 0, 2\n",
    "             ['replace',[0],[2]], #replace 0, 2\n",
    "             ['add',[1,1]], #add 2 +1\n",
    "             ['add',['1-Air']],#add +1 air\n",
    "             ['add',['1-Air']],#add +1 air\n",
    "             ['add',['1-Air']],#add +1 air\n",
    "             ['add',['0-Poison-R','0-Poison-R','0-Poison-R']],#add 3 rolling poisons\n",
    "             ['add',['0-Curse-R','0-Curse-R']], #add 2 rolling curses\n",
    "             ['add',['0-Immobilize-R','0-Immobilize-R']], #add 2 rolling immobilizes\n",
    "             ['add',['0-Stun-R']], #add one rolling stun\n",
    "             ['add',['0-Stun-R']], #add one rolling stun\n",
    "             ['add',[1]], #ignore neg scenario effects and add one +1\n",
    "            ],\n",
    "            'Nightshroud':\n",
    "            [['remove',[-1,-1]], #remove2 -1\n",
    "             ['remove',[-1,-1]], #remove2 -1\n",
    "             ['remove',[0,0,0,0]], #remove4 0\n",
    "             ['add',['-1-Dark']], #add 1 -1 DARK\n",
    "             ['add',['-1-Dark']], #add 1 -1 DARK\n",
    "             ['replace',['-1-Dark'],['1-Dark']], #replace -1 DARK with +1 DARK\n",
    "             ['replace',['-1-Dark'],['1-Dark']], #replace -1 DARK with +1 DARK\n",
    "             ['add',['1-Invisibility']],#add +1 INVIS\n",
    "             ['add',['1-Invisibility']],#add +1 INVIS\n",
    "             ['add',['0-Muddle-R','0-Muddle-R','0-Muddle-R']],#add 3 rolling muddles\n",
    "             ['add',['0-Muddle-R','0-Muddle-R','0-Muddle-R']],#add 3 rolling muddles\n",
    "             ['add',['0-Heal 1-R','0-Heal 1-R']], #add 2 rolling heal 1\n",
    "             ['add',['0-Curse-R','0-Curse-R']], #add 2 rolling curse\n",
    "             ['add',['0-Add Target-R']], #add rolling add target\n",
    "             ['add',[1,1]], #ignore neg scenario effects and add two +1\n",
    "            ],\n",
    "            'Summoner':\n",
    "            [['remove',[-1,-1]], #remove2 -1\n",
    "             ['replace',[-2],[0]], #replace -2 with +0\n",
    "             ['replace',[-1],[1]], #replace -1 with +1\n",
    "             ['replace',[-1],[1]], #replace -1 with +1\n",
    "             ['replace',[-1],[1]], #replace -1 with +1\n",
    "             ['add',[2]], #add +2\n",
    "             ['add',[2]], #add +2\n",
    "             ['add',['0-Wound-R','0-Wound-R']],#add 2 rolling wound\n",
    "             ['add',['0-Poison-R','0-Poison-R']],#add 2 rolling poison\n",
    "             ['add',['0-Heal 1-R','0-Heal 1-R']], #add 2 rolling heal 1\n",
    "             ['add',['0-Heal 1-R','0-Heal 1-R']], #add 2 rolling heal 1\n",
    "             ['add',['0-Heal 1-R','0-Heal 1-R']], #add 2 rolling heal 1\n",
    "             ['add',['0-Fire-R','0-Air-R']], #add 1 rolling fire, rolling air\n",
    "             ['add',['0-Dark-R','0-Earth-R']], #add 1 rolling night, rolling earth\n",
    "             ['add',[1,1]], #ignore neg scenario effects and add two +1\n",
    "            ],\n",
    "            'Quartermaster':\n",
    "            [['remove',[-1,-1]], #remove2 -1\n",
    "             ['remove',[-1,-1]], #remove2 -1\n",
    "             ['remove',[0,0,0,0]], #remove4 0\n",
    "             ['replace',[0],[2]], #replace 0 with 2\n",
    "             ['replace',[0],[2]], #replace 0 with 2\n",
    "             ['add',['1--R','1--R']],#add 2 rolling +1s\n",
    "             ['add',['1--R','1--R']],#add 2 rolling +1s\n",
    "             ['add',['0-Muddle-R','0-Muddle-R','0-Muddle-R']],#add 3 rolling muddles\n",
    "             ['add',['0-Pierce 3-R','0-Pierce 3-R']], #add 2 rolling pierce 3\n",
    "             ['add',['0-Stun-R']], #add 1 rolling stun\n",
    "             ['add',['0-Add Target-R']], #add 1 rolling add target\n",
    "             ['add',['0-Refresh an item']], #add 1 +0  refresh an item\n",
    "             ['add',['0-Refresh an item']], #add 1 +0  refresh an item\n",
    "             ['add',['0-Refresh an item']], #add 1 +0  refresh an item\n",
    "             ['add',[1,1]], #ignore neg item effects and add two +1\n",
    "            ],\n",
    "            'Sunkeeper':\n",
    "            [['remove',[-1,-1]], #remove2 -1\n",
    "             ['remove',[-1,-1]], #remove2 -1\n",
    "             ['remove',[0,0,0,0]], #remove4 0\n",
    "             ['replace',[-2],[0]], #replace 0 with 2\n",
    "             ['replace',[0],[2]], #replace 0 with 2\n",
    "             ['add',['1--R','1--R']],#add 2 rolling +1s\n",
    "             ['add',['1--R','1--R']],#add 2 rolling +1s\n",
    "             ['add',['0-Heal 1-R','0-Heal 1-R']], #add 2 rolling heal+1\n",
    "             ['add',['0-Heal 1-R','0-Heal 1-R']], #add 2 rolling heal+1\n",
    "             ['add',['0-Stun-R']], #add 1 rolling stun\n",
    "             ['add',['0-Light-R','0-Light-R']], #add 2 rolling light\n",
    "             ['add',['0-Light-R','0-Light-R']], #add 2 rolling light\n",
    "             ['add',['0-Shield 1-R','0-Shield 1-R']], #add 2 sheidl self\n",
    "             ['add',[1,1]], #ignore neg scenario effects and add two +1\n",
    "             ['add',[]], #ignore scenario effects\n",
    "            ],\n",
    "            'Mindthief':\n",
    "            [['remove',[-1,-1]], #remove2 -1\n",
    "             ['remove',[-1,-1]], #remove2 -1\n",
    "             ['remove',[0,0,0,0]], #remove4 0\n",
    "             ['replace',[1,1],[2,2]], #replace 2 1s, with 2 2s\n",
    "             ['replace',[-2],[0]], #replace -2, 0\n",
    "             ['add',['2-Ice']],#add +2 frost\n",
    "             ['add',['2-Ice']],#add +2 frost\n",
    "             ['add',['1--R','1--R']],#add 2 rolling +1s\n",
    "             ['add',['1--R','1--R']],#add 2 rolling +1s\n",
    "             ['add',['0-Push 1-R','0-Push 1-R','0-Push1-R']], #add 3 rolling push1\n",
    "             ['add',['0-Muddle-R','0-Muddle-R','0-Muddle-R']], #add 3 rolling muddles\n",
    "             ['add',['0-Immobilize-R','0-Immobilize-R']], #add 2 rolling immobilize\n",
    "             ['add',['0-Stun-R']], #add 1 rolling stun\n",
    "             ['add',['0-Disarm-R','0-Muddle-R']], #add 1 rolling =disarm and 1 rolling muddle\n",
    "             ['add',[]], #ignore scenario effects\n",
    "            ],\n",
    "            'Mindthief':\n",
    "            [['remove',[-1,-1]], #remove2 -1\n",
    "             ['remove',[-1,-1]], #remove2 -1\n",
    "             ['remove',[0,0,0,0]], #remove4 0\n",
    "             ['replace',[1,1],[2,2]], #replace 2 1s, with 2 2s\n",
    "             ['replace',[-2],[0]], #replace -2, 0\n",
    "             ['add',['2-Ice']],#add +2 frost\n",
    "             ['add',['2-Ice']],#add +2 frost\n",
    "             ['add',['1--R','1--R']],#add 2 rolling +1s\n",
    "             ['add',['1--R','1--R']],#add 2 rolling +1s\n",
    "             ['add',['0-Push 1-R','0-Push 1-R','0-Push 1-R']], #add 3 rolling push1\n",
    "             ['add',['0-Muddle-R','0-Muddle-R','0-Muddle-R']], #add 3 rolling muddles\n",
    "             ['add',['0-Immobilize-R','0-Immobilize-R']], #add 2 rolling immobilize\n",
    "             ['add',['0-Stun-R']], #add 1 rolling stun\n",
    "             ['add',['0-Disarm-R','0-Muddle-R']], #add 1 rolling =disarm and 1 rolling muddle\n",
    "             ['add',[]], #ignore scenario effects\n",
    "            ],\n",
    "            'Cragheart':\n",
    "            [['remove',[0,0,0,0]], #remove4 0\n",
    "             ['replace',[-1],[1]], #replace -1, +1\n",
    "             ['replace',[-1],[1]], #replace -1, +1\n",
    "             ['replace',[-1],[1]], #replace -1, +1\n",
    "             ['add',[-2,2,2]],#add -2,+2,+2\n",
    "             ['add',['1-Immobilize']],#add +1 immob\n",
    "             ['add',['1-Immobilize']],#add +1 immob\n",
    "             ['add',['2-Muddle']],#add +2 muddle\n",
    "             ['add',['2-Muddle']],#add +2 muddle\n",
    "             ['add',['0-Push 2-R','0-Push 2-R']], #add 2 rolling push2\n",
    "             ['add',['0-Earth-R','0-Earth-R']], #add 2 rolling earth\n",
    "             ['add',['0-Earth-R','0-Earth-R']], #add 2 rolling earth\n",
    "             ['add',['0-Air-R','0-Air-R']], #add 2 rolling air\n",
    "             ['add',[]], #ignore item effects\n",
    "             ['add',[]], #ignore scenario effects\n",
    "            ],\n",
    "            'Scoundrel':\n",
    "            [['remove',[-1,-1]], #remove 2 -1s\n",
    "             ['remove',[-1,-1]], #remove 2 -1s\n",
    "             ['remove',[0,0,0,0]], #remove 4 0s\n",
    "             ['replace',[-2],[0]], #replace -2 with 0\n",
    "             ['replace',[-1],[1]], #replace -1, +1\n",
    "             ['replace',[0],[2]], #replace 0 with 2\n",
    "             ['replace',[0],[2]], #replace 0 with 2\n",
    "             ['add',['1--R','1--R']], #add 2 rolling +1\n",
    "             ['add',['1--R','1--R']], #add 2 rolling +1\n",
    "             ['add',['0-Pierce 3-R','0-Pierce 3-R']], #add 2 rolling pierce3\n",
    "             ['add',['0-Poison-R','0-Poison-R']], #add 2 rolling poison\n",
    "             ['add',['0-Poison-R','0-Poison-R']], #add 2 rolling poison\n",
    "             ['add',['0-Muddle-R','0-Muddle-R']], #add 2 rolling muddle\n",
    "             ['add',['0-Invisibility-R']], #add 1 rolling invis\n",
    "             ['add',[]], #ignore scenario effects\n",
    "            ],\n",
    "            'Tinkerer':\n",
    "            [['remove',[-1,-1]], #remove 2 -1s\n",
    "             ['remove',[-1,-1]], #remove 2 -1s\n",
    "             ['replace',[-2],[0]], #replace -2 with 0\n",
    "             ['add',[1,1]], #add 2+1s\n",
    "             ['add',[3]], #add 1 +3\n",
    "             ['add',['0-Fire-R','0-Fire-R']], #add 2 rolling FIRE\n",
    "             ['add',['0-Muddle-R','0-Muddle-R','0-Muddle-R']], #add 2 rolling muddle\n",
    "             ['add',['1-Wound']], #add 1 +1 wound\n",
    "             ['add',['1-Wound']], #add 1 +1 wound\n",
    "             ['add',['1-Immobilize']], #add 1 +1 immo\n",
    "             ['add',['1-Immobilize']], #add 1 +1 immo\n",
    "             ['add',['1-Heal 2']], #add 1 +1 heal+2\n",
    "             ['add',['1-Heal 2']], #add 1 +1 heal+2\n",
    "             ['add',['0-Add Target']], #add 1 +0 add target\n",
    "             ['add',[]], #ignore scenario effects\n",
    "            ],\n",
    "           }\n",
    "class_list = ['Brute','Spellweaver','Soothsinger','Elementalist','Doomstalker', 'Sawbones','BeastTyrant','Berserker',\n",
    "             'Plagueherald','Nightshroud','Summoner','Quartermaster','Sunkeeper','Mindthief', 'Cragheart', 'Scoundrel',\n",
    "             'Tinkerer']"
   ]
  },
  {
   "cell_type": "code",
   "execution_count": 280,
   "id": "needed-villa",
   "metadata": {},
   "outputs": [],
   "source": [
    "%%capture cap --no-stderr\n",
    "num_attacks = 100000\n",
    "defattack = 2\n",
    "advantage = 0\n",
    "disadvantage = 0\n",
    "print(f'Number of attacks: {num_attacks}')\n",
    "print(f'Base attack damage: {defattack}')\n",
    "print(f'Percentage of attacks at advantage: {advantage*100}%')\n",
    "print(f'Percentage of attacks at disadvantage: {disadvantage*100}%')\n",
    "print('-'*25)\n",
    "start_time = datetime.now()\n",
    "# class_list = ['Elementalist']\n",
    "for eachclass in class_list:\n",
    "    totaldmg = 0\n",
    "    isadv = 0\n",
    "    isdisadv = 0\n",
    "    perks = perklist[eachclass]\n",
    "\n",
    "    defaultdeck = ['null',-2,-1,-1,-1,-1,-1,0,0,0,0,0,0,1,1,1,1,1,2,'crit']\n",
    "    modded_deck = defaultdeck.copy()\n",
    "    perks_chosen = []\n",
    "\n",
    "    for i in perks_chosen:\n",
    "        if perks[i-1][0] == 'remove':\n",
    "            for j in perks[i-1][1]:\n",
    "                modded_deck.remove(j)\n",
    "        elif perks[i-1][0] == 'add':\n",
    "            for j in perks[i-1][1]:\n",
    "                modded_deck.append(j)\n",
    "        elif perks[i-1][0] == 'replace':\n",
    "            for j in perks[i-1][1]:\n",
    "                modded_deck.remove(j)\n",
    "            for j in perks[i-1][2]:\n",
    "                modded_deck.append(j)\n",
    "    # print(modded_deck)\n",
    "\n",
    "    numcrits = 0\n",
    "    numnulls = 0\n",
    "    shuffle = True\n",
    "    dict_shuffles = defaultdict(int)\n",
    "    modifiers = defaultdict(int)\n",
    "    num_turns_to_shuffle = 0\n",
    "    for i in range(num_attacks):\n",
    "        crit = False\n",
    "        null = False\n",
    "        rolling_mod = False\n",
    "        if shuffle:\n",
    "            moddeck = modded_deck.copy()\n",
    "            random.shuffle(moddeck)\n",
    "            dict_shuffles[num_turns_to_shuffle] += 1\n",
    "            num_turns_to_shuffle = 0\n",
    "            shuffle = False\n",
    "#         print(moddeck)\n",
    "        draw = []\n",
    "        isadvdisadv = random.random()\n",
    "        added_dmg = defattack\n",
    "        if isadvdisadv <= advantage:\n",
    "            advdisadv = 'A'\n",
    "            isadv += 1\n",
    "        elif isadvdisadv <= advantage + disadvantage:\n",
    "            advdisadv = 'D'\n",
    "            isdisadv += 1\n",
    "        else:\n",
    "            advdisadv = 'N'\n",
    "#         print(advdisadv)\n",
    "        draw.append(moddeck.pop())\n",
    "        \n",
    "        while str(draw[-1])[-1] == 'R':\n",
    "            rolling_mod = True\n",
    "            draw.append(moddeck.pop())\n",
    "        \n",
    "        if (advdisadv == 'A' or advdisadv == 'D') and len(draw) == 1:\n",
    "            draw.append(moddeck.pop())\n",
    "            if str(draw[-1])[-1] == 'R':\n",
    "                rolling_mod = True\n",
    "\n",
    "        draw.sort(key = lambda item: ([int,str].index(type(item)), item))\n",
    "#         print(draw)       \n",
    "        if advdisadv == 'N':\n",
    "            if rolling_mod == True:\n",
    "                if 'crit' in draw:\n",
    "                    shuffle = True\n",
    "                    draw.pop()\n",
    "                    for each_card in draw:\n",
    "                        added_dmg += int(each_card[0])\n",
    "                        if '-' in each_card:\n",
    "                            modifiers[each_card.split('-')[1]] += 1\n",
    "                    crit = True\n",
    "\n",
    "                elif 'null' in draw:\n",
    "                    shuffle = True\n",
    "                    draw.pop()\n",
    "                    for each_card in draw:\n",
    "                        if '-' in each_card:\n",
    "                            modifiers[each_card.split('-')[1]] += 1\n",
    "                    null = True\n",
    "                else:\n",
    "                    for each_card in draw:\n",
    "                        if type(each_card) == int:\n",
    "                            added_dmg += each_card\n",
    "                        else:\n",
    "                            added_dmg += int(each_card.split('-')[0])\n",
    "                            modifiers[each_card.split('-')[1]] += 1\n",
    "#                             print('each_card.split('-')[1]')\n",
    "            else:\n",
    "                if draw[0] == 'crit':\n",
    "                    crit = True\n",
    "                    shuffle = True\n",
    "                elif draw[0] == 'null':\n",
    "                    null = True\n",
    "                    shuffle = True\n",
    "                else:\n",
    "                    if type(draw[0]) == int:\n",
    "                        added_dmg += draw[0]\n",
    "                    else:\n",
    "                        added_dmg += int(draw[0].split('-')[0])\n",
    "                        modifiers[draw[0].split('-')[1]] += 1\n",
    "                        \n",
    "        elif advdisadv == 'D':\n",
    "            if 'null' in draw:\n",
    "                null = True\n",
    "                shuffle = True\n",
    "            else:\n",
    "                if rolling_mod == True:\n",
    "                    if 'crit' in draw:     #crit on disadvantage, ignore all rolling\n",
    "                        crit = True\n",
    "                        shuffle = True\n",
    "                    else:       #non crit at disadvantage, ignore all rolling, just find the one non-rolling card\n",
    "                        for each_card in draw:\n",
    "                            if type(each_card) == int:\n",
    "                                added_dmg += each_card\n",
    "                                break\n",
    "                            elif each_card[-1] != 'R':\n",
    "                                added_dmg += int(each_card.split('-')[0])\n",
    "                                modifiers[each_card.split('-')[1]] += 1\n",
    "                                break\n",
    "                else:\n",
    "                    if 'crit' in draw:\n",
    "                        shuffle = True\n",
    "                        atk_val = draw[0] if type(draw[0])==int else int(draw[0].split('-')[0])\n",
    "                        \n",
    "                        if added_dmg <= atk_val:\n",
    "                            crit = True\n",
    "                        else:\n",
    "                            added_dmg += atk_val\n",
    "                    else:\n",
    "                        card1 = [draw[0],None] if type(draw[0])==int else [int(draw[0].split('-')[0]),draw[0].split('-')[1]]\n",
    "                        card2 = [draw[1],None] if type(draw[1])==int else [int(draw[1].split('-')[0]),draw[1].split('-')[1]]\n",
    "                        if card1[0] < card2[0]:\n",
    "                            added_dmg += card1[0]\n",
    "                            if card1[1] != None:\n",
    "                                modifiers[card1[1]] += 1\n",
    "                        elif card2[0] < card1[0]:\n",
    "                            added_dmg += card2[0]\n",
    "                            if card2[1] != None:\n",
    "                                modifiers[card2[1]] += 1\n",
    "                        else:\n",
    "                            if card1[1] == None:\n",
    "                                added_dmg += card1[0]\n",
    "                            elif card2[1] == None:\n",
    "                                added_dmg += card2[0]\n",
    "                            else:\n",
    "                                added_dmg += card1[0]\n",
    "                                modifiers[card1[1]] += 1\n",
    "                                \n",
    "                        \n",
    "        elif advdisadv == 'A':\n",
    "            if rolling_mod == True:\n",
    "                if 'crit' in draw:\n",
    "                    shuffle = True\n",
    "                    crit = True\n",
    "                    draw.pop()\n",
    "                    for each_card in draw:\n",
    "                        added_dmg += int(each_card.split('-')[0])\n",
    "                        modifiers[each_card.split('-')[1]] += 1       \n",
    "                elif 'null' in draw:\n",
    "                    null = True\n",
    "                    shuffle = True\n",
    "                    draw.remove('null')\n",
    "                    for each_card in draw:\n",
    "                        if type(each_card) == str:\n",
    "                            modifiers[each_card.split('-')[1]] += 1                \n",
    "                else:\n",
    "                    for each_card in draw:\n",
    "                        if type(each_card) == int:\n",
    "                            added_dmg += each_card\n",
    "                        else:\n",
    "                            added_dmg += int(each_card.split('-')[0])\n",
    "                            modifiers[each_card.split('-')[1]] += 1\n",
    "                        \n",
    "            else:\n",
    "                if 'crit' in draw and 'null' in draw:\n",
    "                    shuffle = True\n",
    "                    crit = True\n",
    "                elif 'crit' in draw: #evaluate which is bigger\n",
    "                    shuffle = True\n",
    "                    draw.remove('crit')\n",
    "                    if added_dmg >= (draw[0] if type(draw[0])==int else int(draw[0].split('-')[0])):\n",
    "                        crit = True\n",
    "                    else:\n",
    "                        added_dmg += draw[0] if type(draw[0])==int else int(draw[0].split('-')[0])\n",
    "                    \n",
    "                elif 'null' in draw:\n",
    "                    shuffle = True\n",
    "                    draw.remove('null')\n",
    "                    if type(draw[0]) == int:\n",
    "                        added_dmg += draw[0]\n",
    "                    else:\n",
    "                        added_dmg += int(draw[0].split('-')[0])\n",
    "                        modifiers[draw[0].split('-')[1]] += 1\n",
    "                else:\n",
    "                    card1 = [draw[0],None] if type(draw[0])==int else [int(draw[0].split('-')[0]),draw[0].split('-')[1]]\n",
    "                    card2 = [draw[1],None] if type(draw[1])==int else [int(draw[1].split('-')[0]),draw[1].split('-')[1]]\n",
    "                    if card1[0] > card2[0]:\n",
    "                        added_dmg += card1[0]\n",
    "                        if card1[1] != None:\n",
    "                            modifiers[card1[1]] += 1\n",
    "                    elif card2[0] > card1[0]:\n",
    "                        added_dmg += card2[0]\n",
    "                        if card2[1] != None:\n",
    "                            modifiers[card2[1]] += 1\n",
    "                    else:\n",
    "                        if card1[1] != None:\n",
    "                            added_dmg += card1[0]\n",
    "                            modifiers[card1[1]] += 1\n",
    "                        elif card2[1] != None:\n",
    "                            added_dmg += card2[0]\n",
    "                            modifiers[card2[1]] += 1\n",
    "                        else:\n",
    "                            added_dmg += card1[0]\n",
    "\n",
    "                    \n",
    "        if crit:\n",
    "            added_dmg = added_dmg * 2\n",
    "            numcrits += 1\n",
    "        if null:\n",
    "            added_dmg = 0\n",
    "            numnulls += 1\n",
    "        if added_dmg < 0:\n",
    "            added_dmg = 0\n",
    "#         print(added_dmg)\n",
    "        totaldmg += added_dmg\n",
    "        num_turns_to_shuffle += 1\n",
    "#         print(num_turns_to_shuffle)\n",
    "    if '' in modifiers.keys():\n",
    "        del modifiers['']\n",
    "#         print('-'*25)\n",
    "    del dict_shuffles[0]\n",
    "    print(f'Class: {eachclass}')\n",
    "    print(f'Average total damage: {totaldmg/(num_attacks)}')\n",
    "    print(f'Number of crits: {numcrits} ({\"{:.2f}\".format(numcrits/(num_attacks)*100)}%)')\n",
    "    print(f'Number of nulls: {numnulls} ({\"{:.2f}\".format(numnulls/(num_attacks)*100)}%)')\n",
    "    for key,val in sorted(dict_shuffles.items()):\n",
    "        print(f'{key} attacks to trigger a shuffle: {\"{:.2f}\".format(val/sum(dict_shuffles.values())*100)}%')\n",
    "    for key,val in modifiers.items():\n",
    "        print(f'{key} on {\"{:.2f}\".format(val/num_attacks*100)}%')\n",
    "    print('-'*25)\n",
    "    \n",
    "    \n",
    "print(f'Time to run script: {datetime.now()-start_time}')"
   ]
  },
  {
   "cell_type": "code",
   "execution_count": 281,
   "id": "undefined-throw",
   "metadata": {},
   "outputs": [],
   "source": [
    "with open ('output.txt','w') as f:\n",
    "    f.write(cap.stdout)"
   ]
  },
  {
   "cell_type": "code",
   "execution_count": 236,
   "id": "declared-piano",
   "metadata": {},
   "outputs": [
    {
     "data": {
      "text/plain": [
       "[]"
      ]
     },
     "execution_count": 236,
     "metadata": {},
     "output_type": "execute_result"
    }
   ],
   "source": [
    "moddeck"
   ]
  },
  {
   "cell_type": "code",
   "execution_count": 74,
   "id": "embedded-pursuit",
   "metadata": {},
   "outputs": [],
   "source": [
    "testdict = defaultdict(int)\n",
    "testdict['asdfasdf'] += 1"
   ]
  },
  {
   "cell_type": "code",
   "execution_count": 252,
   "id": "environmental-favorite",
   "metadata": {},
   "outputs": [
    {
     "data": {
      "text/plain": [
       "defaultdict(int,\n",
       "            {9: 584,\n",
       "             20: 190,\n",
       "             18: 281,\n",
       "             13: 440,\n",
       "             6: 667,\n",
       "             5: 757,\n",
       "             10: 520,\n",
       "             12: 464,\n",
       "             14: 425,\n",
       "             7: 727,\n",
       "             8: 613,\n",
       "             3: 770,\n",
       "             2: 813,\n",
       "             1: 830,\n",
       "             15: 397,\n",
       "             16: 306,\n",
       "             4: 726,\n",
       "             17: 299,\n",
       "             11: 457,\n",
       "             19: 273,\n",
       "             22: 148,\n",
       "             21: 186,\n",
       "             25: 36,\n",
       "             24: 71,\n",
       "             23: 90})"
      ]
     },
     "execution_count": 252,
     "metadata": {},
     "output_type": "execute_result"
    }
   ],
   "source": [
    "dict_shuffles"
   ]
  },
  {
   "cell_type": "code",
   "execution_count": null,
   "id": "after-shade",
   "metadata": {},
   "outputs": [],
   "source": [
    "default"
   ]
  },
  {
   "cell_type": "code",
   "execution_count": 214,
   "id": "searching-peace",
   "metadata": {},
   "outputs": [
    {
     "data": {
      "text/plain": [
       "{'Curse': 2833,\n",
       " 'Disarm': 766,\n",
       " 'Immobilize': 691,\n",
       " 'Muddle': 738,\n",
       " 'Poison': 731,\n",
       " 'Stun': 758,\n",
       " 'Wound': 689}"
      ]
     },
     "execution_count": 214,
     "metadata": {},
     "output_type": "execute_result"
    }
   ],
   "source": [
    "dictionarytest = {'': 1568,\n",
    "             'Curse': 2833,\n",
    "             'Disarm': 766,\n",
    "             'Immobilize': 691,\n",
    "             'Muddle': 738,\n",
    "             'Poison': 731,\n",
    "             'Stun': 758,\n",
    "             'Wound': 689}\n",
    "del dictionarytest['']\n",
    "dictionarytest"
   ]
  },
  {
   "cell_type": "code",
   "execution_count": 145,
   "id": "fancy-custom",
   "metadata": {},
   "outputs": [],
   "source": [
    "a = '0-Shield 1'\n",
    "b = 2"
   ]
  },
  {
   "cell_type": "code",
   "execution_count": 153,
   "id": "dress-narrative",
   "metadata": {},
   "outputs": [],
   "source": [
    "if (a if type(a)==int else int(a.split('-')[0])) < b:\n",
    "    print(1)"
   ]
  },
  {
   "cell_type": "code",
   "execution_count": 169,
   "id": "declared-submission",
   "metadata": {},
   "outputs": [
    {
     "name": "stdout",
     "output_type": "stream",
     "text": [
      "1\n"
     ]
    }
   ],
   "source": [
    "if 1==1 and not 1==2:\n",
    "    print(1)"
   ]
  },
  {
   "cell_type": "code",
   "execution_count": null,
   "id": "opened-academy",
   "metadata": {},
   "outputs": [],
   "source": []
  },
  {
   "cell_type": "code",
   "execution_count": 22,
   "id": "fixed-jurisdiction",
   "metadata": {},
   "outputs": [
    {
     "ename": "IndexError",
     "evalue": "pop from empty list",
     "output_type": "error",
     "traceback": [
      "\u001b[1;31m---------------------------------------------------------------------------\u001b[0m",
      "\u001b[1;31mIndexError\u001b[0m                                Traceback (most recent call last)",
      "\u001b[1;32m<ipython-input-22-8c683db53ad1>\u001b[0m in \u001b[0;36m<module>\u001b[1;34m\u001b[0m\n\u001b[0;32m      1\u001b[0m \u001b[1;31m# test = [1,2,3,4,5,6,7,8,9,10]\u001b[0m\u001b[1;33m\u001b[0m\u001b[1;33m\u001b[0m\u001b[1;33m\u001b[0m\u001b[0m\n\u001b[1;32m----> 2\u001b[1;33m \u001b[0mtest\u001b[0m\u001b[1;33m.\u001b[0m\u001b[0mpop\u001b[0m\u001b[1;33m(\u001b[0m\u001b[1;33m)\u001b[0m\u001b[1;33m\u001b[0m\u001b[1;33m\u001b[0m\u001b[0m\n\u001b[0m\u001b[0;32m      3\u001b[0m \u001b[0mtest\u001b[0m\u001b[1;33m\u001b[0m\u001b[1;33m\u001b[0m\u001b[0m\n",
      "\u001b[1;31mIndexError\u001b[0m: pop from empty list"
     ]
    }
   ],
   "source": [
    "# test = [1,2,3,4,5,6,7,8,9,10]\n",
    "test.pop()\n",
    "test"
   ]
  },
  {
   "cell_type": "code",
   "execution_count": 122,
   "id": "organizational-singapore",
   "metadata": {},
   "outputs": [
    {
     "ename": "AttributeError",
     "evalue": "'int' object has no attribute 'split'",
     "output_type": "error",
     "traceback": [
      "\u001b[1;31m---------------------------------------------------------------------------\u001b[0m",
      "\u001b[1;31mAttributeError\u001b[0m                            Traceback (most recent call last)",
      "\u001b[1;32m<ipython-input-122-4e1d41f4a27b>\u001b[0m in \u001b[0;36m<module>\u001b[1;34m\u001b[0m\n\u001b[0;32m      1\u001b[0m \u001b[0mtest\u001b[0m \u001b[1;33m=\u001b[0m \u001b[1;33m-\u001b[0m\u001b[1;36m1\u001b[0m\u001b[1;33m\u001b[0m\u001b[1;33m\u001b[0m\u001b[0m\n\u001b[1;32m----> 2\u001b[1;33m \u001b[0mtest\u001b[0m\u001b[1;33m.\u001b[0m\u001b[0msplit\u001b[0m\u001b[1;33m(\u001b[0m\u001b[1;34m'-'\u001b[0m\u001b[1;33m)\u001b[0m\u001b[1;33m\u001b[0m\u001b[1;33m\u001b[0m\u001b[0m\n\u001b[0m",
      "\u001b[1;31mAttributeError\u001b[0m: 'int' object has no attribute 'split'"
     ]
    }
   ],
   "source": [
    "test = -1\n",
    "test.split('-')"
   ]
  },
  {
   "cell_type": "code",
   "execution_count": 279,
   "id": "mexican-alert",
   "metadata": {},
   "outputs": [
    {
     "data": {
      "text/plain": [
       "['0R', '1R', '1R', 'crit', 'null', 0, 1, 2, 3]"
      ]
     },
     "execution_count": 279,
     "metadata": {},
     "output_type": "execute_result"
    }
   ],
   "source": [
    "resolve = ['crit','0R','1R','1R','null',0,1,2,3]\n",
    "resolve.sort(key = lambda item: ([str,int].index(type(item)), item))\n",
    "resolve"
   ]
  },
  {
   "cell_type": "code",
   "execution_count": 120,
   "id": "intimate-accent",
   "metadata": {},
   "outputs": [
    {
     "data": {
      "text/plain": [
       "1"
      ]
     },
     "execution_count": 120,
     "metadata": {},
     "output_type": "execute_result"
    }
   ],
   "source": [
    "c = ['c', 'b', 'd', 'a', 4, 2, 1, 3]\n",
    "c[-2]"
   ]
  },
  {
   "cell_type": "code",
   "execution_count": 285,
   "id": "characteristic-exhibition",
   "metadata": {},
   "outputs": [
    {
     "data": {
      "text/plain": [
       "'0R'"
      ]
     },
     "execution_count": 285,
     "metadata": {},
     "output_type": "execute_result"
    }
   ],
   "source": [
    "moddeck[-1]"
   ]
  },
  {
   "cell_type": "code",
   "execution_count": 287,
   "id": "noble-colors",
   "metadata": {},
   "outputs": [
    {
     "data": {
      "text/plain": [
       "1"
      ]
     },
     "execution_count": 287,
     "metadata": {},
     "output_type": "execute_result"
    }
   ],
   "source": [
    "len([1])"
   ]
  },
  {
   "cell_type": "code",
   "execution_count": 47,
   "id": "transparent-israeli",
   "metadata": {},
   "outputs": [
    {
     "data": {
      "text/plain": [
       "[-2,\n",
       " -1,\n",
       " 0,\n",
       " 0,\n",
       " 0,\n",
       " 0,\n",
       " 0,\n",
       " 0,\n",
       " 1,\n",
       " 1,\n",
       " 1,\n",
       " 1,\n",
       " 1,\n",
       " 1,\n",
       " 1,\n",
       " 1,\n",
       " 1,\n",
       " 1,\n",
       " 1,\n",
       " 1,\n",
       " 2,\n",
       " '0-AddTarget-R',\n",
       " '0-AddTarget-R',\n",
       " '0-Disarm-R',\n",
       " '0-Muddle-R',\n",
       " '0-Pierce2-R',\n",
       " '0-Pierce2-R',\n",
       " '0-Push1-R',\n",
       " '0-Push1-R',\n",
       " '0-Push1-R',\n",
       " '0-Push1-R',\n",
       " '0-Push1-R',\n",
       " '0-Push1-R',\n",
       " '0-Shield',\n",
       " '0-Stun-R',\n",
       " '0-Stun-R',\n",
       " 'crit',\n",
       " 'null']"
      ]
     },
     "execution_count": 47,
     "metadata": {},
     "output_type": "execute_result"
    }
   ],
   "source": [
    "draw = [1, 0, 'null', 1, 2, '0-Push1-R', 0, 1, '0-Pierce2-R', '0-Stun-R', 1, 1, 0, '0-Push1-R', 0, 1, '0-Push1-R', 1, '0-Push1-R', 0, '0-Push1-R', 'crit', -1, '0-Disarm-R', 1, '0-Push1-R', 0, '0-Stun-R', -2, 1, 1, '0-Shield', 1, '0-AddTarget-R', '0-AddTarget-R', '0-Pierce2-R', 1, '0-Muddle-R']\n",
    "draw.sort(key = lambda item: ([int,str].index(type(item)), item))\n",
    "draw"
   ]
  },
  {
   "cell_type": "code",
   "execution_count": 49,
   "id": "described-habitat",
   "metadata": {},
   "outputs": [
    {
     "data": {
      "text/plain": [
       "True"
      ]
     },
     "execution_count": 49,
     "metadata": {},
     "output_type": "execute_result"
    }
   ],
   "source": [
    "'0-Stun-R' in draw"
   ]
  },
  {
   "cell_type": "code",
   "execution_count": 113,
   "id": "precious-rochester",
   "metadata": {},
   "outputs": [
    {
     "data": {
      "text/plain": [
       "True"
      ]
     },
     "execution_count": 113,
     "metadata": {},
     "output_type": "execute_result"
    }
   ],
   "source": [
    "'a' in 'abcde'"
   ]
  },
  {
   "cell_type": "code",
   "execution_count": 58,
   "id": "soviet-chamber",
   "metadata": {},
   "outputs": [
    {
     "name": "stdout",
     "output_type": "stream",
     "text": [
      "{'AddTarget': 6}\n"
     ]
    }
   ],
   "source": [
    "modifier = 'AddTarget'\n",
    "# test_dict = {modifier: 1}\n",
    "test_dict[modifier] += 1\n",
    "print(test_dict)"
   ]
  },
  {
   "cell_type": "code",
   "execution_count": 85,
   "id": "extensive-gross",
   "metadata": {},
   "outputs": [
    {
     "data": {
      "text/plain": [
       "2"
      ]
     },
     "execution_count": 85,
     "metadata": {},
     "output_type": "execute_result"
    }
   ],
   "source": [
    "added_dmg"
   ]
  },
  {
   "cell_type": "code",
   "execution_count": 212,
   "id": "experienced-butterfly",
   "metadata": {},
   "outputs": [
    {
     "data": {
      "text/plain": [
       "['a', '', 'b']"
      ]
     },
     "execution_count": 212,
     "metadata": {},
     "output_type": "execute_result"
    }
   ],
   "source": [
    "'a--b'.split('-')"
   ]
  },
  {
   "cell_type": "code",
   "execution_count": null,
   "id": "plastic-consultancy",
   "metadata": {},
   "outputs": [],
   "source": []
  }
 ],
 "metadata": {
  "kernelspec": {
   "display_name": "Python 3",
   "language": "python",
   "name": "python3"
  },
  "language_info": {
   "codemirror_mode": {
    "name": "ipython",
    "version": 3
   },
   "file_extension": ".py",
   "mimetype": "text/x-python",
   "name": "python",
   "nbconvert_exporter": "python",
   "pygments_lexer": "ipython3",
   "version": "3.9.2"
  }
 },
 "nbformat": 4,
 "nbformat_minor": 5
}
